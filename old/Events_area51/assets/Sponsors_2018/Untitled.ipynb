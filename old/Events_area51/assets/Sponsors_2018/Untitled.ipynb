{
 "cells": [
  {
   "cell_type": "code",
   "execution_count": 7,
   "metadata": {},
   "outputs": [],
   "source": [
    "import PIL\n",
    "from PIL import Image\n",
    "import os"
   ]
  },
  {
   "cell_type": "code",
   "execution_count": 22,
   "metadata": {},
   "outputs": [
    {
     "name": "stdout",
     "output_type": "stream",
     "text": [
      "/home/akshay/cs/codecell/KJHack19/assets/Sponsors_2018\n"
     ]
    }
   ],
   "source": [
    "print(os.getcwd())\n",
    "f = []"
   ]
  },
  {
   "cell_type": "code",
   "execution_count": null,
   "metadata": {},
   "outputs": [],
   "source": []
  },
  {
   "cell_type": "code",
   "execution_count": 26,
   "metadata": {},
   "outputs": [],
   "source": [
    "for (dirpath, dirnames, filenames) in os.walk(os.getcwd()):\n",
    "    f.extend(filenames)\n",
    "    break"
   ]
  },
  {
   "cell_type": "code",
   "execution_count": 27,
   "metadata": {},
   "outputs": [
    {
     "data": {
      "text/plain": [
       "['EnrootDark BG-min.png',\n",
       " 'Mobicule-logo.png',\n",
       " 'cclogo-min.png',\n",
       " 'wolfram-language-min.png',\n",
       " 'Mobicule-logo-min.png',\n",
       " 'riidl-min.png',\n",
       " 'jetbrains-min.png',\n",
       " 'somaiya-min.png',\n",
       " 'Untitled.ipynb',\n",
       " 'product-hunt-min.png',\n",
       " 'temboo-logo-min.png',\n",
       " 'frappe-min.png',\n",
       " 'Mobicule-logo.jpg',\n",
       " 'bugsee-min.png',\n",
       " 'hackerEarth-min.png',\n",
       " 'about-min.png',\n",
       " 'HasuraLogoHorizontal-min.png',\n",
       " 'EnrootDark BG-min.png',\n",
       " 'Mobicule-logo.png',\n",
       " 'cclogo-min.png',\n",
       " 'wolfram-language-min.png',\n",
       " 'Mobicule-logo-min.png',\n",
       " 'riidl-min.png',\n",
       " 'jetbrains-min.png',\n",
       " 'somaiya-min.png',\n",
       " 'Untitled.ipynb',\n",
       " 'product-hunt-min.png',\n",
       " 'temboo-logo-min.png',\n",
       " 'frappe-min.png',\n",
       " 'Mobicule-logo.jpg',\n",
       " 'bugsee-min.png',\n",
       " 'hackerEarth-min.png',\n",
       " 'about-min.png',\n",
       " 'HasuraLogoHorizontal-min.png']"
      ]
     },
     "execution_count": 27,
     "metadata": {},
     "output_type": "execute_result"
    }
   ],
   "source": [
    "f"
   ]
  },
  {
   "cell_type": "code",
   "execution_count": 37,
   "metadata": {},
   "outputs": [],
   "source": [
    "basewidth = 450\n",
    "os.chdir(os.getcwd())\n",
    "basesmall = 200"
   ]
  },
  {
   "cell_type": "code",
   "execution_count": 38,
   "metadata": {},
   "outputs": [],
   "source": [
    "wpercent = (basewidth / float(img.size[0]))\n",
    "hsize = int((float(img.size[1]) * float(wpercent)))\n",
    "img = img.resize((basewidth, hsize), PIL.Image.ANTIALIAS)\n"
   ]
  },
  {
   "cell_type": "code",
   "execution_count": 39,
   "metadata": {},
   "outputs": [],
   "source": [
    "for file in f:\n",
    "#     try:\n",
    "        if file != 'Untitled.ipynb' and file!='Mobicule-logo.jpg':\n",
    "            img = Image.open(file)\n",
    "            wpercent = (basewidth / float(img.size[0]))\n",
    "            hsize = int((float(img.size[1]) * float(wpercent)))\n",
    "            img450 = img.resize((basewidth, hsize), PIL.Image.ANTIALIAS)\n",
    "            img450.save(\"s450/\"+file, optimize=True,quality=95)\n",
    "            wpercent45 = basesmall / float(img.size[0])\n",
    "            hsize45 = int((float(img.size[1]) * float(wpercent45)))\n",
    "            img45 = img.resize((basesmall, hsize45), PIL.Image.ANTIALIAS)\n",
    "            img45.save(\"s45/\"+file, optimize=True,quality=95)\n",
    "#     except:\n",
    "#         print(f)"
   ]
  },
  {
   "cell_type": "code",
   "execution_count": null,
   "metadata": {},
   "outputs": [],
   "source": []
  },
  {
   "cell_type": "code",
   "execution_count": null,
   "metadata": {},
   "outputs": [],
   "source": []
  }
 ],
 "metadata": {
  "kernelspec": {
   "display_name": "Python 3",
   "language": "python",
   "name": "python3"
  },
  "language_info": {
   "codemirror_mode": {
    "name": "ipython",
    "version": 3
   },
   "file_extension": ".py",
   "mimetype": "text/x-python",
   "name": "python",
   "nbconvert_exporter": "python",
   "pygments_lexer": "ipython3",
   "version": "3.6.7"
  }
 },
 "nbformat": 4,
 "nbformat_minor": 2
}
